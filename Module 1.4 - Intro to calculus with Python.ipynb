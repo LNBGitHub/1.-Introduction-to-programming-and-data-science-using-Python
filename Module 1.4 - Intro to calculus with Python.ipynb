{
 "cells": [
  {
   "cell_type": "code",
   "execution_count": 1,
   "metadata": {},
   "outputs": [
    {
     "name": "stdout",
     "output_type": "stream",
     "text": [
      "Python 3.11.2\n"
     ]
    }
   ],
   "source": [
    "!python --version"
   ]
  },
  {
   "cell_type": "markdown",
   "metadata": {},
   "source": [
    "# Module 1 - Calculus with Python"
   ]
  },
  {
   "cell_type": "markdown",
   "metadata": {},
   "source": [
    "## 1.1 Function, limits, continuity, integration, sequences and series"
   ]
  },
  {
   "cell_type": "markdown",
   "metadata": {},
   "source": [
    "#### Function: \n",
    "\n",
    "- A rule that associates pairs of numbers. \n",
    "\n",
    "- A function is a relationship between two sets of data, one input and the other output. A relation is said to be a function iff each of the input data is related to exactly one output data.\n",
    "\n",
    "\n",
    "##### Properties of a function:\n",
    "- The domain of a function f corresponds to the set of values that its independent variable, generally x, can take.\n",
    "- The range of a function f corresponds to the set of values the dependent variable, generally y, can take.\n",
    "- A function is strictly increasing over an interval of x if and only if the values of y are always increasing.\n",
    "- A function is strictly decreasing over an interval of x if and only if the values of y are always decreasing.\n",
    "\n",
    "##### Limits:\n",
    "- evaluate the function at values arbitrarily close to a chosen input value, without actually reaching that value.\n",
    "\n",
    "##### Continuity:\n",
    "- a function is continuous and smooth iff the following rules are met:\n",
    "    - $f(a)$ is defined, tha is value of function at a,\n",
    "    - limit of $f(x)$ as x approaches a exists,\n",
    "    - the value of the function at a is the same as the limit."
   ]
  },
  {
   "cell_type": "code",
   "execution_count": 1,
   "metadata": {},
   "outputs": [],
   "source": [
    "# define a function, say f(x) = (x**3-1)/(x-1)\n",
    "def f(x):\n",
    "    return (x**3-1)/(x-1)"
   ]
  },
  {
   "cell_type": "code",
   "execution_count": 19,
   "metadata": {},
   "outputs": [
    {
     "data": {
      "image/png": "[encoded data removed]",
      "text/plain": [
       "<Figure size 640x480 with 1 Axes>"
      ]
     },
     "metadata": {},
     "output_type": "display_data"
    }
   ],
   "source": [
    "# calculate value of f(x) for some values and plot\n",
    "\n",
    "import matplotlib.pyplot as plt\n",
    "\n",
    "for i in range(-10, 10):\n",
    "    if i != 1:\n",
    "        plt.plot(i, f(i), '.')\n",
    "plt.show()"
   ]
  }
 ],
 "metadata": {
  "kernelspec": {
   "display_name": "Python 3",
   "language": "python",
   "name": "python3"
  },
  "language_info": {
   "codemirror_mode": {
    "name": "ipython",
    "version": 3
   },
   "file_extension": ".py",
   "mimetype": "text/x-python",
   "name": "python",
   "nbconvert_exporter": "python",
   "pygments_lexer": "ipython3",
   "version": "3.11.2"
  }
 },
 "nbformat": 4,
 "nbformat_minor": 2
}

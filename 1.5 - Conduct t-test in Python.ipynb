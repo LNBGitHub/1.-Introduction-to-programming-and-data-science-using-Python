{
 "cells": [
  {
   "cell_type": "markdown",
   "metadata": {},
   "source": [
    "### Conducting statistical t-test using Python"
   ]
  },
  {
   "cell_type": "markdown",
   "metadata": {},
   "source": [
    "#### 1. Import libraries"
   ]
  },
  {
   "cell_type": "code",
   "execution_count": 1,
   "metadata": {},
   "outputs": [],
   "source": [
    "from matplotlib import pyplot as plt\n",
    "import numpy as np\n",
    "from scipy import stats"
   ]
  },
  {
   "cell_type": "markdown",
   "metadata": {},
   "source": [
    "#### 2. Weight of male students, $n = 36$"
   ]
  },
  {
   "cell_type": "code",
   "execution_count": 2,
   "metadata": {},
   "outputs": [
    {
     "name": "stdout",
     "output_type": "stream",
     "text": [
      "<class 'list'>\n",
      "36\n",
      "Sum: 2506\n",
      "Mean: 69.61111111111111\n",
      "Median: 70.0\n",
      "Variance: 80.23765432098766\n",
      "SD: 8.957547338473164\n"
     ]
    }
   ],
   "source": [
    "x = [70, 95, 63, 70, 81, 71, 57, 62, 67, 72, 63, 52, 70, 65, 70, 73, 67, 66, 70, 65, 83, 58, 67, 73, 75, 80, 60, 63, 86, 72, 74, 60, 67, 61, 70, 88]\n",
    "print(type(x))\n",
    "print(len(x))\n",
    "print(\"Sum:\",sum(x))\n",
    "print(\"Mean:\",np.mean(x))\n",
    "print(\"Median:\",np.median(x))\n",
    "print(\"Variance:\",np.var(x))\n",
    "print(\"SD:\",np.std(x))"
   ]
  },
  {
   "cell_type": "code",
   "execution_count": 3,
   "metadata": {},
   "outputs": [
    {
     "data": {
      "text/plain": [
       "Text(0.5, 0, 'Weight in kgs')"
      ]
     },
     "execution_count": 3,
     "metadata": {},
     "output_type": "execute_result"
    },
    {
     "data": {
      "image/png": "[encoded data removed]",
      "text/plain": [
       "<Figure size 640x480 with 1 Axes>"
      ]
     },
     "metadata": {},
     "output_type": "display_data"
    }
   ],
   "source": [
    "plt.hist(x)\n",
    "plt.title(\"Dist. of weight of 36 male students\")\n",
    "plt.xlabel(\"Weight in kgs\")"
   ]
  },
  {
   "cell_type": "markdown",
   "metadata": {},
   "source": [
    "#### 3. Compute t-test for $\\alpha$ (alpha) = 0.05"
   ]
  },
  {
   "cell_type": "markdown",
   "metadata": {},
   "source": [
    "$H_n:$ The expected average weight of male students is 65 kgs. \n",
    "\n",
    "$H_a:$ The expected average weight of male students is not 65 kgs."
   ]
  },
  {
   "cell_type": "code",
   "execution_count": 4,
   "metadata": {},
   "outputs": [
    {
     "name": "stdout",
     "output_type": "stream",
     "text": [
      "t: 2.1840004717365455\n"
     ]
    }
   ],
   "source": [
    "# calculate t-statistic\n",
    "t = (np.mean(x) - 65) / (np.std(x) * np.sqrt(2 / len(x)))  \n",
    "print('t:', t)"
   ]
  },
  {
   "cell_type": "code",
   "execution_count": 5,
   "metadata": {},
   "outputs": [
    {
     "data": {
      "text/plain": [
       "35"
      ]
     },
     "execution_count": 5,
     "metadata": {},
     "output_type": "execute_result"
    }
   ],
   "source": [
    "# calculate degrees of freedom\n",
    "df = 36 - 1\n",
    "df"
   ]
  },
  {
   "cell_type": "code",
   "execution_count": 6,
   "metadata": {},
   "outputs": [
    {
     "name": "stdout",
     "output_type": "stream",
     "text": [
      "t = 2.1840004717365455\n",
      "p = 0.03575178922865474\n"
     ]
    }
   ],
   "source": [
    "# compute p-value\n",
    "p = 1 - stats.t.cdf(abs(t), df=df)  # \n",
    "print(\"t = \" + str(t))\n",
    "print(\"p = \" + str(2 * p))"
   ]
  },
  {
   "cell_type": "code",
   "execution_count": 7,
   "metadata": {},
   "outputs": [
    {
     "name": "stdout",
     "output_type": "stream",
     "text": [
      "Lower CI: 65.3884828005552\n",
      "Upper CI: 73.83373942166703\n"
     ]
    }
   ],
   "source": [
    "# compute 95% confidence intervals\n",
    "print(\"Lower CI:\", np.mean(x) - 2 * (np.std(x) * np.sqrt(2 / len(x))))\n",
    "print(\"Upper CI:\", np.mean(x) + 2 * (np.std(x) * np.sqrt(2 / len(x))))"
   ]
  },
  {
   "cell_type": "markdown",
   "metadata": {},
   "source": [
    "There is strong evidence to reject our null hypothesis in favour of alternative hypothesis. \n",
    "\n",
    "With 95% confidence we can say that the expected weight of male students is between 65.4 and 74 kgs.\n"
   ]
  }
 ],
 "metadata": {
  "kernelspec": {
   "display_name": "Python 3",
   "language": "python",
   "name": "python3"
  },
  "language_info": {
   "codemirror_mode": {
    "name": "ipython",
    "version": 3
   },
   "file_extension": ".py",
   "mimetype": "text/x-python",
   "name": "python",
   "nbconvert_exporter": "python",
   "pygments_lexer": "ipython3",
   "version": "3.11.2"
  }
 },
 "nbformat": 4,
 "nbformat_minor": 2
}
